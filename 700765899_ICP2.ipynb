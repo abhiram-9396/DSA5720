{
  "nbformat": 4,
  "nbformat_minor": 0,
  "metadata": {
    "colab": {
      "provenance": [],
      "authorship_tag": "ABX9TyOKjKiZxLLosclE1DRJlJ30",
      "include_colab_link": true
    },
    "kernelspec": {
      "name": "python3",
      "display_name": "Python 3"
    },
    "language_info": {
      "name": "python"
    }
  },
  "cells": [
    {
      "cell_type": "markdown",
      "metadata": {
        "id": "view-in-github",
        "colab_type": "text"
      },
      "source": [
        "<a href=\"https://colab.research.google.com/github/abhiram-9396/DSA5720/blob/main/700765899_ICP2.ipynb\" target=\"_parent\"><img src=\"https://colab.research.google.com/assets/colab-badge.svg\" alt=\"Open In Colab\"/></a>"
      ]
    },
    {
      "cell_type": "markdown",
      "source": [
        "Abhiram Gatreddi\n",
        "\n",
        "700765899\n",
        "\n",
        "\n",
        "1.Create a class Employee and then do the following:\n",
        "\n",
        "• Create a data member to count the number of Employees\n",
        "\n",
        "• Create a constructor to initialize name, family, salary, department\n",
        "\n",
        "• Create a function to average salary\n",
        "\n",
        "• Create a Fulltime Employee class and it should inherit the properties of Employee class\n",
        "\n",
        "• Create the instances of Fulltime Employee class and Employee class and call their member functions."
      ],
      "metadata": {
        "id": "c_rzsXMuTyd8"
      }
    },
    {
      "cell_type": "code",
      "execution_count": null,
      "metadata": {
        "colab": {
          "base_uri": "https://localhost:8080/"
        },
        "id": "Lv30j8wMSiPr",
        "outputId": "cf26de2c-3595-4b91-e573-f5be27d569ac"
      },
      "outputs": [
        {
          "output_type": "stream",
          "name": "stdout",
          "text": [
            "Average Salary for Employees: 40000.0\n",
            "Average Salary for Fulltime Employees: 36000.0\n"
          ]
        }
      ],
      "source": [
        "class Employee:\n",
        "    employee_count = 0  # Data member to count the number of Employees\n",
        "\n",
        "    def __init__(self, name, family, salary, department):\n",
        "        self.name = name\n",
        "        self.family = family\n",
        "        self.salary = salary\n",
        "        self.department = department\n",
        "        Employee.employee_count += 1\n",
        "\n",
        "    def average_salary(self, total_salary):\n",
        "        return total_salary / Employee.employee_count\n",
        "\n",
        "class FulltimeEmployee(Employee):\n",
        "    # Inheriting properties from the Employee class\n",
        "    pass\n",
        "\n",
        "# Creating instances of Employee class\n",
        "employee1 = Employee(\"Abhi Ram\", \"Gatreddi\", 100000, \"Manager\")\n",
        "employee2 = Employee(\"Karthik\", \"Gatreddi\", 60000, \"IT\")\n",
        "\n",
        "# Creating instances of FulltimeEmployee class\n",
        "fulltime_employee1 = FulltimeEmployee(\"Jaya\", \"Balreddi\", 74000, \"Finance\")\n",
        "fulltime_employee2 = FulltimeEmployee(\"Vijay\", \"Gatreddi\", 70000, \"Marketing\")\n",
        "\n",
        "# Calling member functions\n",
        "total_salary_employees = employee1.salary + employee2.salary\n",
        "average_salary_employees = employee1.average_salary(total_salary_employees)\n",
        "\n",
        "total_salary_fulltime_employees = fulltime_employee1.salary + fulltime_employee2.salary\n",
        "average_salary_fulltime_employees = fulltime_employee1.average_salary(total_salary_fulltime_employees)\n",
        "\n",
        "# Displaying results\n",
        "print(\"Average Salary for Employees:\", average_salary_employees)\n",
        "print(\"Average Salary for Fulltime Employees:\", average_salary_fulltime_employees)\n"
      ]
    },
    {
      "cell_type": "markdown",
      "source": [
        "2.Numpy\n",
        "\n",
        "Using NumPy create random vector of size 20 having only float in the range 1-20.\n",
        "\n",
        "Then reshape the array to 4 by 5\n",
        "\n",
        "Then replace the max in each row by 0 (axis=1)"
      ],
      "metadata": {
        "id": "1vgBefmDUPGr"
      }
    },
    {
      "cell_type": "code",
      "source": [
        "import numpy as np\n",
        "\n",
        "# Create a random vector of size 20 with floats in the range 1-20\n",
        "random_vector = np.random.uniform(1, 20, 20)\n",
        "\n",
        "print(\"Original Random Vector:\\n\", random_vector)"
      ],
      "metadata": {
        "colab": {
          "base_uri": "https://localhost:8080/"
        },
        "id": "mTyQCuwpUQ9d",
        "outputId": "e7cd10e5-9108-4a6f-e309-42fa1e631920"
      },
      "execution_count": null,
      "outputs": [
        {
          "output_type": "stream",
          "name": "stdout",
          "text": [
            "Original Random Vector:\n",
            " [ 9.97556936 15.32163579 13.77592668 11.00004898 11.36784475  3.73792275\n",
            "  8.14324857 10.99153246 18.07593325  5.18201545 19.2082749   2.98674153\n",
            "  3.80923964 17.38576262  3.0465521  14.97816108 19.93126753 14.90884757\n",
            " 14.44902489 15.33674488]\n"
          ]
        }
      ]
    },
    {
      "cell_type": "code",
      "source": [
        "# Reshape the array to 4 by 5 (4 rows and 5 columns)\n",
        "reshaped_array = random_vector.reshape(4, 5)\n",
        "\n",
        "print(reshaped_array)"
      ],
      "metadata": {
        "colab": {
          "base_uri": "https://localhost:8080/"
        },
        "id": "Z0MdOfpRUmm3",
        "outputId": "4921a06e-bb99-4136-f751-bef104403c15"
      },
      "execution_count": null,
      "outputs": [
        {
          "output_type": "stream",
          "name": "stdout",
          "text": [
            "[[ 9.97556936 15.32163579 13.77592668 11.00004898 11.36784475]\n",
            " [ 3.73792275  8.14324857 10.99153246 18.07593325  5.18201545]\n",
            " [19.2082749   2.98674153  3.80923964 17.38576262  3.0465521 ]\n",
            " [14.97816108 19.93126753 14.90884757 14.44902489 15.33674488]]\n"
          ]
        }
      ]
    },
    {
      "cell_type": "code",
      "source": [
        "# Replace the max in each row by 0 (axis=1)\n",
        "reshaped_array[np.arange(4), reshaped_array.argmax(axis=1)] = 0\n",
        "\n",
        "print(\"Reshaped Array:\\n\", reshaped_array)"
      ],
      "metadata": {
        "colab": {
          "base_uri": "https://localhost:8080/"
        },
        "id": "ryID9Fd9Up7K",
        "outputId": "931c72ed-8d3a-409b-bee8-ded2b865fedf"
      },
      "execution_count": null,
      "outputs": [
        {
          "output_type": "stream",
          "name": "stdout",
          "text": [
            "Reshaped Array:\n",
            " [[ 9.97556936  0.         13.77592668 11.00004898 11.36784475]\n",
            " [ 3.73792275  8.14324857 10.99153246  0.          5.18201545]\n",
            " [ 0.          2.98674153  3.80923964 17.38576262  3.0465521 ]\n",
            " [14.97816108  0.         14.90884757 14.44902489 15.33674488]]\n"
          ]
        }
      ]
    },
    {
      "cell_type": "markdown",
      "source": [
        "Loom Video Link\n",
        "\n",
        "https://www.loom.com/share/6e43ec648ea54c5799e528b4ece389bd?sid=c6a708d9-2f96-4c0d-b479-8e28b8157940"
      ],
      "metadata": {
        "id": "tEBnrsKkZK6K"
      }
    }
  ]
}